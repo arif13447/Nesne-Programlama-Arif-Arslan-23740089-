{
 "cells": [
  {
   "cell_type": "code",
   "execution_count": 48,
   "metadata": {},
   "outputs": [],
   "source": [
    "class product:\n",
    "    def __init__(self,name:str=\"Default\",price:float=0,quantity:int=1) -> None:\n",
    "        print(f\"bla bla bla\")\n",
    "        self.__name = name\n",
    "        self.__price = price\n",
    "        self.__quantity = quantity\n",
    "        \n",
    "    @property        \n",
    "    def name(self):\n",
    "        return self.__name  \n",
    "    \n",
    "    @name.setter\n",
    "    def name(self,value:str )-> None:\n",
    "        self.__name = value  \n",
    "        \n",
    "    @property        \n",
    "    def price(self):\n",
    "        return self.__price \n",
    "    \n",
    "    @price.setter\n",
    "    def price(self,value):\n",
    "        self.__price = value  \n",
    "        \n",
    "    @property        \n",
    "    def quantity(self):\n",
    "        return self.__quantity  \n",
    "        \n",
    "    @quantity.setter\n",
    "    def quantity(self,value):\n",
    "        self.__quantity = value\n",
    "     \n",
    "    def get_total_price(self) -> float:\n",
    "        return self.__price * self.__quantity"
   ]
  },
  {
   "cell_type": "code",
   "execution_count": 49,
   "metadata": {},
   "outputs": [
    {
     "name": "stdout",
     "output_type": "stream",
     "text": [
      "bla bla bla\n",
      "hp laptop\n",
      "800\n",
      "2\n",
      "800800\n"
     ]
    }
   ],
   "source": [
    "item1 = product(\"laptop\",799.9,2)\n",
    "item1.name=\"hp laptop\"\n",
    "item1.price=\"800\"\n",
    "\n",
    "print(item1.name)\n",
    "print(item1.price)\n",
    "print(item1.quantity)\n",
    "print(item1.get_total_price())"
   ]
  },
  {
   "cell_type": "code",
   "execution_count": 50,
   "metadata": {},
   "outputs": [
    {
     "name": "stdout",
     "output_type": "stream",
     "text": [
      "bla bla bla\n"
     ]
    }
   ],
   "source": [
    "item2 = product()\n",
    "\n",
    "#dinamik özellik tanımı\n",
    "item2.__name = \"computer\"\n",
    "item2.__price = 1999.9\n",
    "item2.__quantity = 3"
   ]
  },
  {
   "cell_type": "code",
   "execution_count": 51,
   "metadata": {},
   "outputs": [
    {
     "name": "stdout",
     "output_type": "stream",
     "text": [
      "Default\n",
      "0\n",
      "1\n"
     ]
    }
   ],
   "source": [
    "print(item2.name)\n",
    "print(item2.price)\n",
    "print(item2.quantity)"
   ]
  },
  {
   "cell_type": "code",
   "execution_count": 52,
   "metadata": {},
   "outputs": [
    {
     "name": "stdout",
     "output_type": "stream",
     "text": [
      "bla bla bla\n",
      "keyboard\n",
      "25.99\n",
      "1\n"
     ]
    }
   ],
   "source": [
    "item3 = product(\"keyboard\",25.99)\n",
    "print(item3.name)\n",
    "print(item3.price)\n",
    "print(item3.quantity)\n"
   ]
  }
 ],
 "metadata": {
  "kernelspec": {
   "display_name": "Python 3",
   "language": "python",
   "name": "python3"
  },
  "language_info": {
   "codemirror_mode": {
    "name": "ipython",
    "version": 3
   },
   "file_extension": ".py",
   "mimetype": "text/x-python",
   "name": "python",
   "nbconvert_exporter": "python",
   "pygments_lexer": "ipython3",
   "version": "3.13.0"
  }
 },
 "nbformat": 4,
 "nbformat_minor": 2
}
