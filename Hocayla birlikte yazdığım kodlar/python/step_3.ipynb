{
 "cells": [
  {
   "cell_type": "code",
   "execution_count": 7,
   "metadata": {},
   "outputs": [],
   "source": [
    "class product:\n",
    "    def __init__(self):\n",
    "        print(f\"bla bla bla\")\n",
    "    pass"
   ]
  },
  {
   "cell_type": "code",
   "execution_count": 8,
   "metadata": {},
   "outputs": [
    {
     "name": "stdout",
     "output_type": "stream",
     "text": [
      "bla bla bla\n"
     ]
    }
   ],
   "source": [
    "item1 = product()\n",
    "\n",
    "#dinamik özellik tanımı\n",
    "item1.name = \"laptop\"\n",
    "item1.price = 799.9\n",
    "item1.quantity = 2"
   ]
  },
  {
   "cell_type": "code",
   "execution_count": 9,
   "metadata": {},
   "outputs": [
    {
     "name": "stdout",
     "output_type": "stream",
     "text": [
      "bla bla bla\n"
     ]
    }
   ],
   "source": [
    "item2 = product()\n",
    "\n",
    "#dinamik özellik tanımı\n",
    "item2.name = \"computer\"\n",
    "item2.price = 1999.9\n",
    "item2.quantity = 3"
   ]
  }
 ],
 "metadata": {
  "kernelspec": {
   "display_name": "Python 3",
   "language": "python",
   "name": "python3"
  },
  "language_info": {
   "codemirror_mode": {
    "name": "ipython",
    "version": 3
   },
   "file_extension": ".py",
   "mimetype": "text/x-python",
   "name": "python",
   "nbconvert_exporter": "python",
   "pygments_lexer": "ipython3",
   "version": "3.13.0"
  }
 },
 "nbformat": 4,
 "nbformat_minor": 2
}
