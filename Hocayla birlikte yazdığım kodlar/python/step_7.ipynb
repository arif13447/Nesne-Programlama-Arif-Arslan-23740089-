{
 "cells": [
  {
   "cell_type": "code",
   "execution_count": 14,
   "metadata": {},
   "outputs": [],
   "source": [
    "class product(object):\n",
    "    def __init__(self,name:str=\"Default\",price:float=0,quantity:int=1) -> None:\n",
    "        print(f\"bla bla bla\")\n",
    "        self.__name = name\n",
    "        self.__price = price\n",
    "        self.__quantity = quantity\n",
    "        \n",
    "    @property        \n",
    "    def name(self):\n",
    "        return self.__name  \n",
    "    \n",
    "    @name.setter\n",
    "    def name(self,value:str )-> None:\n",
    "        self.__name = value  \n",
    "        \n",
    "    @property        \n",
    "    def price(self):\n",
    "        return self.__price \n",
    "    \n",
    "    @price.setter\n",
    "    def price(self,value):\n",
    "        self.__price = value  \n",
    "        \n",
    "    @property        \n",
    "    def quantity(self):\n",
    "        return self.__quantity  \n",
    "        \n",
    "    @quantity.setter\n",
    "    def quantity(self,value):\n",
    "        self.__quantity = value\n",
    "     \n",
    "    def get_total_price(self) -> float:\n",
    "        return self.__price * self.__quantity\n",
    "\n",
    "    def __repr__(self):\n",
    "        return f\"{self.__name} - {self.__price} - {self.__quantity}\"\n"
   ]
  },
  {
   "cell_type": "code",
   "execution_count": 15,
   "metadata": {},
   "outputs": [
    {
     "name": "stdout",
     "output_type": "stream",
     "text": [
      "bla bla bla\n",
      "hp laptop - 799.9 - 2\n"
     ]
    }
   ],
   "source": [
    "item1 = product(\"laptop\",799.9,2)\n",
    "item1.name=\"hp laptop\"\n",
    "print(item1)"
   ]
  },
  {
   "cell_type": "code",
   "execution_count": 16,
   "metadata": {},
   "outputs": [
    {
     "name": "stdout",
     "output_type": "stream",
     "text": [
      "bla bla bla\n",
      "computer - 1999.9 - 3\n"
     ]
    }
   ],
   "source": [
    "item2 = product(\"computer\")\n",
    "item2.price = 1999.9\n",
    "item2.quantity = 3\n",
    "print(item2)"
   ]
  },
  {
   "cell_type": "code",
   "execution_count": 17,
   "metadata": {},
   "outputs": [
    {
     "name": "stdout",
     "output_type": "stream",
     "text": [
      "bla bla bla\n",
      "keyboard - 25.99 - 1\n"
     ]
    }
   ],
   "source": [
    "item3 = product(\"keyboard\",25.99)\n",
    "print(item3)"
   ]
  }
 ],
 "metadata": {
  "kernelspec": {
   "display_name": "Python 3",
   "language": "python",
   "name": "python3"
  },
  "language_info": {
   "codemirror_mode": {
    "name": "ipython",
    "version": 3
   },
   "file_extension": ".py",
   "mimetype": "text/x-python",
   "name": "python",
   "nbconvert_exporter": "python",
   "pygments_lexer": "ipython3",
   "version": "3.13.0"
  }
 },
 "nbformat": 4,
 "nbformat_minor": 2
}
