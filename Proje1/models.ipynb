{
 "cells": [
  {
   "cell_type": "code",
   "execution_count": 2,
   "metadata": {},
   "outputs": [],
   "source": [
    "from datetime import datetime\n",
    "\n",
    "class Product:\n",
    "    def __init__(self, name=None, price=0, quantity=1):\n",
    "        self._name = name\n",
    "        self._price = price\n",
    "        self._quantity = quantity\n",
    "        \n",
    "        \n",
    "        if name is not None:\n",
    "            if len(name) < 3 or len(name) > 8:\n",
    "                raise ValueError(\"Ürün adi 3 ile 8 karakter arasinda olmalidir.\")\n",
    "            print(f\"Ürün adi: {name}, Tarih: {datetime.now()}\")\n",
    "\n",
    "       \n",
    "        if price < 0:\n",
    "            raise ValueError(\"Fiyat 0'dan küçük olamaz.\")\n",
    "        \n",
    "       \n",
    "        if quantity < 1:\n",
    "            raise ValueError(\"Adet en az 1 olmalidir.\")\n",
    "\n",
    "    @property\n",
    "    def name(self):\n",
    "        return self._name\n",
    "\n",
    "    @property\n",
    "    def price(self):\n",
    "        return self._price\n",
    "\n",
    "    @property\n",
    "    def quantity(self):\n",
    "        return self._quantity\n",
    "\n",
    "    def get_total_price(self):\n",
    "        return self._price * self._quantity\n",
    "\n",
    "    def __str__(self):\n",
    "        return f\"Product(Name: {self._name}, Price: {self._price}, Quantity: {self._quantity})\""
   ]
  },
  {
   "cell_type": "code",
   "execution_count": 4,
   "metadata": {},
   "outputs": [
    {
     "name": "stdout",
     "output_type": "stream",
     "text": [
      "Ürün adi: laptop, Tarih: 2024-11-14 20:11:32.921704\n",
      "Product(Name: laptop, Price: 799.9, Quantity: 2)\n"
     ]
    }
   ],
   "source": [
    "item1 = Product(\"laptop\",799.9,2)\n",
    "\n",
    "print(item1)"
   ]
  }
 ],
 "metadata": {
  "kernelspec": {
   "display_name": "Python 3",
   "language": "python",
   "name": "python3"
  },
  "language_info": {
   "codemirror_mode": {
    "name": "ipython",
    "version": 3
   },
   "file_extension": ".py",
   "mimetype": "text/x-python",
   "name": "python",
   "nbconvert_exporter": "python",
   "pygments_lexer": "ipython3",
   "version": "3.13.0"
  }
 },
 "nbformat": 4,
 "nbformat_minor": 2
}
