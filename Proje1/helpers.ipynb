{
 "cells": [
  {
   "cell_type": "code",
   "execution_count": 7,
   "metadata": {},
   "outputs": [],
   "source": [
    "class ProductHelper:\n",
    "    @staticmethod\n",
    "    def create_item_from_text(file_path):\n",
    "        products = []\n",
    "        with open(file_path, 'r') as file:\n",
    "            for line in file:\n",
    "                parts = line.strip().split(',')\n",
    "                name = parts[0].strip()\n",
    "                price = float(parts[1].strip())\n",
    "                quantity = int(parts[2].strip()) if len(parts) > 2 else 1\n",
    "                \n",
    "                product = product(name, price, quantity)\n",
    "                products.append(product)\n",
    "        return products\n",
    "\n",
    "    @staticmethod\n",
    "    def get_total_balance(products):\n",
    "        total_balance = sum(product.get_total_price() for product in products)\n",
    "        total_balance_with_tax = total_balance * 1.20  \n",
    "        return total_balance_with_tax"
   ]
  },
  {
   "cell_type": "code",
   "execution_count": null,
   "metadata": {},
   "outputs": [],
   "source": []
  }
 ],
 "metadata": {
  "kernelspec": {
   "display_name": "Python 3",
   "language": "python",
   "name": "python3"
  },
  "language_info": {
   "codemirror_mode": {
    "name": "ipython",
    "version": 3
   },
   "file_extension": ".py",
   "mimetype": "text/x-python",
   "name": "python",
   "nbconvert_exporter": "python",
   "pygments_lexer": "ipython3",
   "version": "3.13.0"
  }
 },
 "nbformat": 4,
 "nbformat_minor": 2
}
